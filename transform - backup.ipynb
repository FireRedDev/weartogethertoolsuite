{
 "metadata": {
  "language_info": {
   "codemirror_mode": {
    "name": "ipython",
    "version": 3
   },
   "file_extension": ".py",
   "mimetype": "text/x-python",
   "name": "python",
   "nbconvert_exporter": "python",
   "pygments_lexer": "ipython3",
   "version": "3.8.8"
  },
  "orig_nbformat": 2,
  "kernelspec": {
   "name": "python388jvsc74a57bd0c72a629dba5ae9edebcad565c17c3988d814021371aabb3db62cb04d2b10dbfe",
   "display_name": "Python 3.8.8 64-bit ('base': conda)"
  }
 },
 "nbformat": 4,
 "nbformat_minor": 2,
 "cells": [
  {
   "cell_type": "code",
   "execution_count": 6,
   "metadata": {
    "tags": []
   },
   "outputs": [
    {
     "output_type": "stream",
     "name": "stdout",
     "text": [
      "                                     Produktname Karton    Vorname  \\\n0   Europagymnasium Baumgartenberg Schulpullover      x      Julia   \n1          Europagymnasium Baumgartenberg Zoodie      x       Karl   \n2   Europagymnasium Baumgartenberg Schulpullover      x        Eva   \n3          Europagymnasium Baumgartenberg Zoodie      x      Diana   \n4          Europagymnasium Baumgartenberg Zoodie      x   Reinhold   \n5          Europagymnasium Baumgartenberg Zoodie      x   Reinhold   \n6          Europagymnasium Baumgartenberg Zoodie      x   Reinhold   \n7          Europagymnasium Baumgartenberg Zoodie      x  Alexandra   \n8          Europagymnasium Baumgartenberg Zoodie      x      Peter   \n9   Europagymnasium Baumgartenberg Schulpullover      x     Regina   \n10  Europagymnasium Baumgartenberg Schulpullover      x     Jürgen   \n11  Europagymnasium Baumgartenberg Schulpullover      x     Harald   \n12  Europagymnasium Baumgartenberg Schulpullover      x     Harald   \n13  Europagymnasium Baumgartenberg Schulpullover      x    Michael   \n14  Europagymnasium Baumgartenberg Schulpullover      x     Andrea   \n\n   Nachnahme (Rechnungsadresse)  Anzahl Größe     Farbe       Klasse  \\\n0                          Klug       1     S   Schwarz          2b    \n1                      Strasser       1     L   Schwarz    LehrerIn    \n2                         Szabo       2     S   Schwarz          2b    \n3                    Stoicovici       1     S      Navy          1a    \n4                     Spannlang       3   XXL   Schwarz    LehrerIn    \n5                     Spannlang       1   XXL      Navy    LehrerIn    \n6                     Spannlang       1   XXL  Burgundy    LehrerIn    \n7                  Mühlschuster       1     S   Schwarz          1a    \n8                    Gusenbauer       1    XL  Hellgrau    LehrerIn    \n9                    Kirchhofer       1    XS  Burgundy          1b    \n10                     Holzmann       1     M  Burgundy          3a    \n11                   Watzlinger       1     S      Navy          4a    \n12                   Watzlinger       1     S      Navy          2a    \n13                  Baumgartner       1     L      Navy    LehrerIn    \n14                     Hammerer       1     S      Navy    LehrerIn    \n\n   Individualisierung                                       Input Fields  \\\n0                Nein                                                NaN   \n1                  Ja                                                NaN   \n2                  Ja  \\nIndividualisierungstext \\n(falls \"Ja\" ausgew...   \n3                Nein                                                NaN   \n4                Nein                                                NaN   \n5                Nein                                                NaN   \n6                Nein                                                NaN   \n7                Nein                                                NaN   \n8                Nein                                                NaN   \n9                  Ja  \\nIndividualisierungstext \\n(falls \"Ja\" ausgew...   \n10               Nein                                                NaN   \n11                 Ja  \\nIndividualisierungstext \\n(falls \"Ja\" ausgew...   \n12               Nein                                                NaN   \n13               Nein                                                NaN   \n14               Nein                                                NaN   \n\n    Individualisierungstext(zählt nur wenn Individualisierung Ja)  \\\n0                                                 NaN               \n1                                                 NaN               \n2                                                 NaN               \n3                                                 NaN               \n4                                                 NaN               \n5                                                 NaN               \n6                                                 NaN               \n7                                                 NaN               \n8                                                 NaN               \n9                                                 NaN               \n10                                                NaN               \n11                                                NaN               \n12                                                NaN               \n13                                                NaN               \n14                                                NaN               \n\n                                    Product Variation  Bestellnotiz  \\\n0   Größe: S | Farbe: Schwarz | Klasse: 2b | Indiv...           NaN   \n1   Größe: L | Farbe: Schwarz | Klasse: LehrerIn |...           NaN   \n2   Größe: S | Farbe: Schwarz | Klasse: 2b | Indiv...           NaN   \n3   Größe: S | Farbe: Navy | Klasse: 1a | Individu...           NaN   \n4   Größe: XXL | Farbe: Schwarz | Klasse: LehrerIn...           NaN   \n5   Größe: XXL | Farbe: Navy | Klasse: LehrerIn | ...           NaN   \n6   Größe: XXL | Farbe: Burgundy | Klasse: LehrerI...           NaN   \n7   Größe: S | Farbe: Schwarz | Klasse: 1a | Indiv...           NaN   \n8   Größe: XL | Farbe: Hellgrau | Klasse: LehrerIn...           NaN   \n9   Größe: XS | Farbe: Burgundy | Klasse: 1b | Ind...           NaN   \n10  Größe: M | Farbe: Burgundy | Klasse: 3a | Indi...           NaN   \n11  Größe: S | Farbe: Navy | Klasse: 4a | Individu...           NaN   \n12  Größe: S | Farbe: Navy | Klasse: 2a | Individu...           NaN   \n13  Größe: L | Farbe: Navy | Klasse: LehrerIn | In...           NaN   \n14  Größe: S | Farbe: Navy | Klasse: LehrerIn | In...           NaN   \n\n    Bestellung Gesamtsumme(löschen)  \n0                              28.5  \n1                              39.0  \n2                              35.0  \n3                              32.5  \n4                              97.5  \n5                              97.5  \n6                              97.5  \n7                              32.5  \n8                              32.5  \n9                              35.0  \n10                             28.5  \n11                             63.5  \n12                             63.5  \n13                             28.5  \n14                             89.5  \nIndex(['Produktname', 'Karton', 'Vorname', 'Nachnahme (Rechnungsadresse)',\n       'Anzahl', 'Größe', 'Farbe', 'Klasse', 'Individualisierung',\n       'Input Fields',\n       'Individualisierungstext(zählt nur wenn Individualisierung Ja)',\n       'Product Variation', 'Bestellnotiz', 'Bestellung Gesamtsumme(löschen)'],\n      dtype='object')\n"
     ]
    }
   ],
   "source": [
    "import pandas as pd\n",
    "import numpy as np\n",
    "df = pd.read_excel('Quelle/bestellliste2021-06-04-18-32-33.xlsx')\n",
    "df[\"Klasse\"] = df[\"Product Variation\"].str.split(\"|\",n=4,expand=True)[2].str.replace(\"Klasse:\",\"\")\n",
    "df.rename(columns={\"Item Name(löschen)\" : \"Produktname\", \"Anzahl \":\"Anzahl\"}, inplace=True)\n",
    "print(df)\n",
    "print(df.columns)"
   ]
  },
  {
   "cell_type": "code",
   "execution_count": 7,
   "metadata": {},
   "outputs": [
    {
     "output_type": "stream",
     "name": "stdout",
     "text": [
      "                                     Produktname Karton    Vorname  \\\n0   Europagymnasium Baumgartenberg Schulpullover      x      Julia   \n1          Europagymnasium Baumgartenberg Zoodie      x       Karl   \n2   Europagymnasium Baumgartenberg Schulpullover      x        Eva   \n3   Europagymnasium Baumgartenberg Schulpullover      x        Eva   \n4          Europagymnasium Baumgartenberg Zoodie      x      Diana   \n5          Europagymnasium Baumgartenberg Zoodie      x   Reinhold   \n6          Europagymnasium Baumgartenberg Zoodie      x   Reinhold   \n7          Europagymnasium Baumgartenberg Zoodie      x   Reinhold   \n8          Europagymnasium Baumgartenberg Zoodie      x   Reinhold   \n9          Europagymnasium Baumgartenberg Zoodie      x   Reinhold   \n10         Europagymnasium Baumgartenberg Zoodie      x  Alexandra   \n11         Europagymnasium Baumgartenberg Zoodie      x      Peter   \n12  Europagymnasium Baumgartenberg Schulpullover      x     Regina   \n13  Europagymnasium Baumgartenberg Schulpullover      x     Jürgen   \n14  Europagymnasium Baumgartenberg Schulpullover      x     Harald   \n15  Europagymnasium Baumgartenberg Schulpullover      x     Harald   \n16  Europagymnasium Baumgartenberg Schulpullover      x    Michael   \n17  Europagymnasium Baumgartenberg Schulpullover      x     Andrea   \n\n   Nachnahme (Rechnungsadresse) Größe     Farbe       Klasse  \\\n0                          Klug     S   Schwarz          2b    \n1                      Strasser     L   Schwarz    LehrerIn    \n2                         Szabo     S   Schwarz          2b    \n3                         Szabo     S   Schwarz          2b    \n4                    Stoicovici     S      Navy          1a    \n5                     Spannlang   XXL   Schwarz    LehrerIn    \n6                     Spannlang   XXL   Schwarz    LehrerIn    \n7                     Spannlang   XXL   Schwarz    LehrerIn    \n8                     Spannlang   XXL      Navy    LehrerIn    \n9                     Spannlang   XXL  Burgundy    LehrerIn    \n10                 Mühlschuster     S   Schwarz          1a    \n11                   Gusenbauer    XL  Hellgrau    LehrerIn    \n12                   Kirchhofer    XS  Burgundy          1b    \n13                     Holzmann     M  Burgundy          3a    \n14                   Watzlinger     S      Navy          4a    \n15                   Watzlinger     S      Navy          2a    \n16                  Baumgartner     L      Navy    LehrerIn    \n17                     Hammerer     S      Navy    LehrerIn    \n\n   Individualisierung                                       Input Fields  \\\n0                Nein                                                NaN   \n1                  Ja                                                NaN   \n2                  Ja  \\nIndividualisierungstext \\n(falls \"Ja\" ausgew...   \n3                  Ja  \\nIndividualisierungstext \\n(falls \"Ja\" ausgew...   \n4                Nein                                                NaN   \n5                Nein                                                NaN   \n6                Nein                                                NaN   \n7                Nein                                                NaN   \n8                Nein                                                NaN   \n9                Nein                                                NaN   \n10               Nein                                                NaN   \n11               Nein                                                NaN   \n12                 Ja  \\nIndividualisierungstext \\n(falls \"Ja\" ausgew...   \n13               Nein                                                NaN   \n14                 Ja  \\nIndividualisierungstext \\n(falls \"Ja\" ausgew...   \n15               Nein                                                NaN   \n16               Nein                                                NaN   \n17               Nein                                                NaN   \n\n   Individualisierungstext(zählt nur wenn Individualisierung Ja)  \n0                                                 NaN             \n1                                                 NaN             \n2                                                 NaN             \n3                                                 NaN             \n4                                                 NaN             \n5                                                 NaN             \n6                                                 NaN             \n7                                                 NaN             \n8                                                 NaN             \n9                                                 NaN             \n10                                                NaN             \n11                                                NaN             \n12                                                NaN             \n13                                                NaN             \n14                                                NaN             \n15                                                NaN             \n16                                                NaN             \n17                                                NaN             \n"
     ]
    }
   ],
   "source": [
    "df = pd.DataFrame(df.values.repeat(df.Anzahl, axis=0), columns=df.columns)\n",
    "df.drop(['Anzahl','Product Variation','Bestellnotiz', 'Bestellung Gesamtsumme(löschen)'], axis=1, inplace=True)\n",
    "print(df)"
   ]
  },
  {
   "cell_type": "code",
   "execution_count": 8,
   "metadata": {},
   "outputs": [
    {
     "output_type": "stream",
     "name": "stdout",
     "text": [
      "                                     Produktname  Karton    Vorname  \\\n4          Europagymnasium Baumgartenberg Zoodie       1      Diana   \n10         Europagymnasium Baumgartenberg Zoodie       1  Alexandra   \n12  Europagymnasium Baumgartenberg Schulpullover       1     Regina   \n15  Europagymnasium Baumgartenberg Schulpullover       1     Harald   \n0   Europagymnasium Baumgartenberg Schulpullover       1      Julia   \n2   Europagymnasium Baumgartenberg Schulpullover       1        Eva   \n3   Europagymnasium Baumgartenberg Schulpullover       1        Eva   \n13  Europagymnasium Baumgartenberg Schulpullover       1     Jürgen   \n14  Europagymnasium Baumgartenberg Schulpullover       1     Harald   \n17  Europagymnasium Baumgartenberg Schulpullover       1     Andrea   \n16  Europagymnasium Baumgartenberg Schulpullover       1    Michael   \n9          Europagymnasium Baumgartenberg Zoodie       1   Reinhold   \n11         Europagymnasium Baumgartenberg Zoodie       1      Peter   \n8          Europagymnasium Baumgartenberg Zoodie       1   Reinhold   \n1          Europagymnasium Baumgartenberg Zoodie       1       Karl   \n5          Europagymnasium Baumgartenberg Zoodie       1   Reinhold   \n6          Europagymnasium Baumgartenberg Zoodie       1   Reinhold   \n7          Europagymnasium Baumgartenberg Zoodie       1   Reinhold   \n\n   Nachnahme (Rechnungsadresse) Größe     Farbe       Klasse  \\\n4                    Stoicovici     S      Navy          1a    \n10                 Mühlschuster     S   Schwarz          1a    \n12                   Kirchhofer    XS  Burgundy          1b    \n15                   Watzlinger     S      Navy          2a    \n0                          Klug     S   Schwarz          2b    \n2                         Szabo     S   Schwarz          2b    \n3                         Szabo     S   Schwarz          2b    \n13                     Holzmann     M  Burgundy          3a    \n14                   Watzlinger     S      Navy          4a    \n17                     Hammerer     S      Navy    LehrerIn    \n16                  Baumgartner     L      Navy    LehrerIn    \n9                     Spannlang   XXL  Burgundy    LehrerIn    \n11                   Gusenbauer    XL  Hellgrau    LehrerIn    \n8                     Spannlang   XXL      Navy    LehrerIn    \n1                      Strasser     L   Schwarz    LehrerIn    \n5                     Spannlang   XXL   Schwarz    LehrerIn    \n6                     Spannlang   XXL   Schwarz    LehrerIn    \n7                     Spannlang   XXL   Schwarz    LehrerIn    \n\n   Individualisierung  \\\n4                Nein   \n10               Nein   \n12                 Ja   \n15               Nein   \n0                Nein   \n2                  Ja   \n3                  Ja   \n13               Nein   \n14                 Ja   \n17               Nein   \n16               Nein   \n9                Nein   \n11               Nein   \n8                Nein   \n1                  Ja   \n5                Nein   \n6                Nein   \n7                Nein   \n\n   Individualisierungstext(zählt nur wenn Individualisierung Ja) Checkbox  \n4                                                                       ☐  \n10                                                                      ☐  \n12                                     Pia Kirchhofer                   ☐  \n15                                                                      ☐  \n0                                                                       ☐  \n2                                     Lisa Wögerbauer                   ☐  \n3                                     Lisa Wögerbauer                   ☐  \n13                                                                      ☐  \n14                                          Miriam W.                   ☐  \n17                                                                      ☐  \n16                                                                      ☐  \n9                                                                       ☐  \n11                                                                      ☐  \n8                                                                       ☐  \n1                                            Strasser                   ☐  \n5                                                                       ☐  \n6                                                                       ☐  \n7                                                                       ☐  \n"
     ]
    }
   ],
   "source": [
    "#=WENN(UND(I2=\"Ja\";J2=\"\");D2;WENN(I2=\"Nein\";\"\";WENNFEHLER(RECHTS(J2;LÄNGE(J2)-50);\"\")))\n",
    "df[\"Individualisierungstext(zählt nur wenn Individualisierung Ja)\"] = df.apply(lambda x: x['Input Fields'] if x['Individualisierung']=='Ja' else \"\", axis=1)\n",
    "#df[\"Individualisierungstext(zählt nur wenn Individualisierung Ja)\"] = np.where((~df['Input Fields'].isnull()) & (~df['Individualisierung']== 'Ja') ,df['Nachnahme (Rechnungsadresse)'],\"\")\n",
    "df[\"Individualisierungstext(zählt nur wenn Individualisierung Ja)\"] = df[\"Individualisierungstext(zählt nur wenn Individualisierung Ja)\"].str[50:]\n",
    "df[\"Individualisierungstext(zählt nur wenn Individualisierung Ja)\"] = df.apply(lambda x: x['Nachnahme (Rechnungsadresse)'] if pd.isnull(x['Individualisierungstext(zählt nur wenn Individualisierung Ja)']) else x['Individualisierungstext(zählt nur wenn Individualisierung Ja)'], axis=1)\n",
    "df[\"Karton\"] = (df.index / 25 + 1).astype(int)\n",
    "df.drop(['Input Fields'], axis=1, inplace=True)\n",
    "t = pd.CategoricalDtype(categories=['XS', 'S','M','L','XL','XXL','XXXL'], ordered=True)\n",
    "df['Größe']=pd.Series(df.Größe, dtype=t)\n",
    "df.sort_values(by=['Karton', 'Klasse','Produktname','Farbe','Größe'], inplace=True)\n",
    "df['Checkbox']='☐'\n",
    "print(df)"
   ]
  },
  {
   "cell_type": "code",
   "execution_count": 9,
   "metadata": {},
   "outputs": [
    {
     "output_type": "stream",
     "name": "stdout",
     "text": [
      "                                     Produktname  Karton    Vorname  \\\n4          Europagymnasium Baumgartenberg Zoodie       1      Diana   \n10         Europagymnasium Baumgartenberg Zoodie       1  Alexandra   \n12  Europagymnasium Baumgartenberg Schulpullover       1     Regina   \n15  Europagymnasium Baumgartenberg Schulpullover       1     Harald   \n0   Europagymnasium Baumgartenberg Schulpullover       1      Julia   \n2   Europagymnasium Baumgartenberg Schulpullover       1        Eva   \n3   Europagymnasium Baumgartenberg Schulpullover       1        Eva   \n13  Europagymnasium Baumgartenberg Schulpullover       1     Jürgen   \n14  Europagymnasium Baumgartenberg Schulpullover       1     Harald   \n17  Europagymnasium Baumgartenberg Schulpullover       1     Andrea   \n16  Europagymnasium Baumgartenberg Schulpullover       1    Michael   \n9          Europagymnasium Baumgartenberg Zoodie       1   Reinhold   \n11         Europagymnasium Baumgartenberg Zoodie       1      Peter   \n8          Europagymnasium Baumgartenberg Zoodie       1   Reinhold   \n1          Europagymnasium Baumgartenberg Zoodie       1       Karl   \n5          Europagymnasium Baumgartenberg Zoodie       1   Reinhold   \n6          Europagymnasium Baumgartenberg Zoodie       1   Reinhold   \n7          Europagymnasium Baumgartenberg Zoodie       1   Reinhold   \n\n   Nachnahme (Rechnungsadresse) Größe     Farbe       Klasse  \\\n4                    Stoicovici     S      Navy          1a    \n10                 Mühlschuster     S   Schwarz          1a    \n12                   Kirchhofer    XS  Burgundy          1b    \n15                   Watzlinger     S      Navy          2a    \n0                          Klug     S   Schwarz          2b    \n2                         Szabo     S   Schwarz          2b    \n3                         Szabo     S   Schwarz          2b    \n13                     Holzmann     M  Burgundy          3a    \n14                   Watzlinger     S      Navy          4a    \n17                     Hammerer     S      Navy    LehrerIn    \n16                  Baumgartner     L      Navy    LehrerIn    \n9                     Spannlang   XXL  Burgundy    LehrerIn    \n11                   Gusenbauer    XL  Hellgrau    LehrerIn    \n8                     Spannlang   XXL      Navy    LehrerIn    \n1                      Strasser     L   Schwarz    LehrerIn    \n5                     Spannlang   XXL   Schwarz    LehrerIn    \n6                     Spannlang   XXL   Schwarz    LehrerIn    \n7                     Spannlang   XXL   Schwarz    LehrerIn    \n\n   Individualisierung  \\\n4                Nein   \n10               Nein   \n12                 Ja   \n15               Nein   \n0                Nein   \n2                  Ja   \n3                  Ja   \n13               Nein   \n14                 Ja   \n17               Nein   \n16               Nein   \n9                Nein   \n11               Nein   \n8                Nein   \n1                  Ja   \n5                Nein   \n6                Nein   \n7                Nein   \n\n   Individualisierungstext(zählt nur wenn Individualisierung Ja) Checkbox  \\\n4                                                                       ☐   \n10                                                                      ☐   \n12                                     Pia Kirchhofer                   ☐   \n15                                                                      ☐   \n0                                                                       ☐   \n2                                     Lisa Wögerbauer                   ☐   \n3                                     Lisa Wögerbauer                   ☐   \n13                                                                      ☐   \n14                                          Miriam W.                   ☐   \n17                                                                      ☐   \n16                                                                      ☐   \n9                                                                       ☐   \n11                                                                      ☐   \n8                                                                       ☐   \n1                                            Strasser                   ☐   \n5                                                                       ☐   \n6                                                                       ☐   \n7                                                                       ☐   \n\n    Anzahl  \n4        1  \n10       1  \n12       1  \n15       1  \n0        1  \n2        1  \n3        1  \n13       1  \n14       1  \n17       1  \n16       1  \n9        1  \n11       1  \n8        1  \n1        1  \n5        1  \n6        1  \n7        1  \n"
     ]
    }
   ],
   "source": [
    "df2 = df.copy()\n",
    "df2[\"Anzahl\"]=1\n",
    "#df2= df2.pivot_table(index=['Produktname','Größe','Farbe'], \n",
    "              # columns='Individualisierung', \n",
    "              # margins = True,\n",
    "              # aggfunc='size', \n",
    "              # fill_value=0)\n",
    "print(df2)"
   ]
  },
  {
   "cell_type": "code",
   "execution_count": 10,
   "metadata": {},
   "outputs": [
    {
     "output_type": "stream",
     "name": "stdout",
     "text": [
      "19\n"
     ]
    }
   ],
   "source": [
    "from openpyxl import Workbook\n",
    "from openpyxl.utils import get_column_letter\n",
    "from openpyxl.utils.dataframe import dataframe_to_rows\n",
    "#wb = load_workbook(filename = 'vorlage_bestellliste_shop.xltx')\n",
    "#ws = wb[\"Orders\"]\n",
    "#bestellungen = ws.tables[\"Bestellungen\"]\n",
    "#print(bestellungen)\n",
    "import os\n",
    "from openpyxl import load_workbook\n",
    "df.columns = df.columns.astype(str)\n",
    "\n",
    "def append_df_to_excel(filename, df, sheet_name='Sheet1', startrow=None,\n",
    "                       truncate_sheet=False, \n",
    "                       **to_excel_kwargs):\n",
    "    \"\"\"\n",
    "    Append a DataFrame [df] to existing Excel file [filename]\n",
    "    into [sheet_name] Sheet.\n",
    "    If [filename] doesn't exist, then this function will create it.\n",
    "\n",
    "    @param filename: File path or existing ExcelWriter\n",
    "                     (Example: '/path/to/file.xlsx')\n",
    "    @param df: DataFrame to save to workbook\n",
    "    @param sheet_name: Name of sheet which will contain DataFrame.\n",
    "                       (default: 'Sheet1')\n",
    "    @param startrow: upper left cell row to dump data frame.\n",
    "                     Per default (startrow=None) calculate the last row\n",
    "                     in the existing DF and write to the next row...\n",
    "    @param truncate_sheet: truncate (remove and recreate) [sheet_name]\n",
    "                           before writing DataFrame to Excel file\n",
    "    @param to_excel_kwargs: arguments which will be passed to `DataFrame.to_excel()`\n",
    "                            [can be a dictionary]\n",
    "    @return: None\n",
    "\n",
    "    Usage examples:\n",
    "\n",
    "    >>> append_df_to_excel('d:/temp/test.xlsx', df)\n",
    "\n",
    "    >>> append_df_to_excel('d:/temp/test.xlsx', df, header=None, index=False)\n",
    "\n",
    "    >>> append_df_to_excel('d:/temp/test.xlsx', df, sheet_name='Sheet2',\n",
    "                           index=False)\n",
    "\n",
    "    >>> append_df_to_excel('d:/temp/test.xlsx', df, sheet_name='Sheet2', \n",
    "                           index=False, startrow=25)\n",
    "\n",
    "    (c) [MaxU](https://stackoverflow.com/users/5741205/maxu?tab=profile)\n",
    "    \"\"\"\n",
    "    # Excel file doesn't exist - saving and exiting\n",
    "    if not os.path.isfile(filename):\n",
    "        df.to_excel(\n",
    "            filename,\n",
    "            sheet_name=sheet_name, \n",
    "            startrow=startrow if startrow is not None else 0, \n",
    "            **to_excel_kwargs)\n",
    "        return\n",
    "    \n",
    "    # ignore [engine] parameter if it was passed\n",
    "    if 'engine' in to_excel_kwargs:\n",
    "        to_excel_kwargs.pop('engine')\n",
    "\n",
    "    writer = pd.ExcelWriter(filename, engine='openpyxl', mode='a')\n",
    "\n",
    "    # try to open an existing workbook\n",
    "    writer.book = load_workbook(filename)\n",
    "    \n",
    "\n",
    "    # get the last row in the existing Excel sheet\n",
    "    # if it was not specified explicitly\n",
    "    if startrow is None and sheet_name in writer.book.sheetnames:\n",
    "        startrow = writer.book[sheet_name].max_row\n",
    "    # truncate sheet\n",
    "    if truncate_sheet and sheet_name in writer.book.sheetnames:\n",
    "        # index of [sheet_name] sheet\n",
    "        idx = writer.book.sheetnames.index(sheet_name)\n",
    "        # remove [sheet_name]\n",
    "        writer.book.remove(writer.book.worksheets[idx])\n",
    "        # create an empty sheet [sheet_name] using old index\n",
    "        writer.book.create_sheet(sheet_name, idx)\n",
    "    maxTableRow = str(df[df.columns[0]].count()+1)\n",
    "    print(maxTableRow)\n",
    "    ws = writer.book[\"Orders\"]\n",
    "    alltables = ws.tables\n",
    "    alltables.get(name=\"Bestellungen\").ref = \"A1:L\" + maxTableRow\n",
    "    #for table in alltables:\n",
    "    #    print(table)\n",
    "    #    if table.displayName == \"Bestellungen\":\n",
    "    #        table.ref = \"A1:L{maxTableRow}\"\n",
    "    # copy existing sheets\n",
    "    writer.sheets = {ws.title:ws for ws in writer.book.worksheets}\n",
    "\n",
    "    if startrow is None:\n",
    "        startrow = 0\n",
    "    \n",
    " \n",
    "\n",
    "    # write out the new sheet\n",
    "    df.to_excel(writer, sheet_name, startrow=0, **to_excel_kwargs)\n",
    "\n",
    "    # save the workbook\n",
    "    writer.save()\n",
    "    writer.close()\n",
    "import shutil\n",
    "shutil.copy(\"vorlage_bestellliste_shop1.xlsx\", \"vorlage_bestellliste_shop.xlsx\")\n",
    "append_df_to_excel('vorlage_bestellliste_shop.xlsx', df, header = True, index=False, sheet_name ='Orders')\n",
    "\n"
   ]
  },
  {
   "cell_type": "code",
   "execution_count": null,
   "metadata": {},
   "outputs": [],
   "source": []
  }
 ]
}